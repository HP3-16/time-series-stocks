{
 "cells": [
  {
   "cell_type": "code",
   "execution_count": 7,
   "metadata": {},
   "outputs": [],
   "source": [
    "import numpy as np\n",
    "import pandas as pd\n",
    "from additional import DatasetGenerator\n",
    "import matplotlib.pyplot as plt\n",
    "import tensorflow as tf\n",
    "from sklearn.metrics import mean_squared_error, mean_absolute_error\n",
    "\n",
    "\n",
    "import warnings\n",
    "warnings.filterwarnings('ignore')"
   ]
  },
  {
   "cell_type": "code",
   "execution_count": 8,
   "metadata": {},
   "outputs": [],
   "source": [
    "RELIANCE = pd.read_csv(\"D:/time-series-stock-pred/equities/RELIANCE.csv\")"
   ]
  },
  {
   "cell_type": "code",
   "execution_count": 4,
   "metadata": {},
   "outputs": [
    {
     "data": {
      "text/html": [
       "<div>\n",
       "<style scoped>\n",
       "    .dataframe tbody tr th:only-of-type {\n",
       "        vertical-align: middle;\n",
       "    }\n",
       "\n",
       "    .dataframe tbody tr th {\n",
       "        vertical-align: top;\n",
       "    }\n",
       "\n",
       "    .dataframe thead th {\n",
       "        text-align: right;\n",
       "    }\n",
       "</style>\n",
       "<table border=\"1\" class=\"dataframe\">\n",
       "  <thead>\n",
       "    <tr style=\"text-align: right;\">\n",
       "      <th></th>\n",
       "      <th>Date</th>\n",
       "      <th>Open</th>\n",
       "      <th>High</th>\n",
       "      <th>Low</th>\n",
       "      <th>Close</th>\n",
       "      <th>Adj Close</th>\n",
       "      <th>Volume</th>\n",
       "    </tr>\n",
       "  </thead>\n",
       "  <tbody>\n",
       "    <tr>\n",
       "      <th>0</th>\n",
       "      <td>1996-01-01</td>\n",
       "      <td>14.638248</td>\n",
       "      <td>14.716795</td>\n",
       "      <td>14.541850</td>\n",
       "      <td>14.691803</td>\n",
       "      <td>9.302443</td>\n",
       "      <td>52060684</td>\n",
       "    </tr>\n",
       "    <tr>\n",
       "      <th>1</th>\n",
       "      <td>1996-01-02</td>\n",
       "      <td>14.656100</td>\n",
       "      <td>14.727506</td>\n",
       "      <td>14.470444</td>\n",
       "      <td>14.577553</td>\n",
       "      <td>9.230103</td>\n",
       "      <td>84371654</td>\n",
       "    </tr>\n",
       "    <tr>\n",
       "      <th>2</th>\n",
       "      <td>1996-01-03</td>\n",
       "      <td>14.816763</td>\n",
       "      <td>15.491551</td>\n",
       "      <td>14.656100</td>\n",
       "      <td>14.688232</td>\n",
       "      <td>9.300183</td>\n",
       "      <td>104661939</td>\n",
       "    </tr>\n",
       "    <tr>\n",
       "      <th>3</th>\n",
       "      <td>1996-01-04</td>\n",
       "      <td>14.548991</td>\n",
       "      <td>14.595404</td>\n",
       "      <td>14.356194</td>\n",
       "      <td>14.552561</td>\n",
       "      <td>9.214279</td>\n",
       "      <td>108450132</td>\n",
       "    </tr>\n",
       "    <tr>\n",
       "      <th>4</th>\n",
       "      <td>1996-01-05</td>\n",
       "      <td>14.495436</td>\n",
       "      <td>14.495436</td>\n",
       "      <td>14.327632</td>\n",
       "      <td>14.452592</td>\n",
       "      <td>9.150980</td>\n",
       "      <td>83354233</td>\n",
       "    </tr>\n",
       "  </tbody>\n",
       "</table>\n",
       "</div>"
      ],
      "text/plain": [
       "         Date       Open       High        Low      Close  Adj Close  \\\n",
       "0  1996-01-01  14.638248  14.716795  14.541850  14.691803   9.302443   \n",
       "1  1996-01-02  14.656100  14.727506  14.470444  14.577553   9.230103   \n",
       "2  1996-01-03  14.816763  15.491551  14.656100  14.688232   9.300183   \n",
       "3  1996-01-04  14.548991  14.595404  14.356194  14.552561   9.214279   \n",
       "4  1996-01-05  14.495436  14.495436  14.327632  14.452592   9.150980   \n",
       "\n",
       "      Volume  \n",
       "0   52060684  \n",
       "1   84371654  \n",
       "2  104661939  \n",
       "3  108450132  \n",
       "4   83354233  "
      ]
     },
     "execution_count": 4,
     "metadata": {},
     "output_type": "execute_result"
    }
   ],
   "source": [
    "RELIANCE.head()"
   ]
  },
  {
   "cell_type": "code",
   "execution_count": 5,
   "metadata": {},
   "outputs": [
    {
     "name": "stdout",
     "output_type": "stream",
     "text": [
      "<class 'pandas.core.frame.DataFrame'>\n",
      "RangeIndex: 7079 entries, 0 to 7078\n",
      "Data columns (total 7 columns):\n",
      " #   Column     Non-Null Count  Dtype  \n",
      "---  ------     --------------  -----  \n",
      " 0   Date       7079 non-null   object \n",
      " 1   Open       7079 non-null   float64\n",
      " 2   High       7079 non-null   float64\n",
      " 3   Low        7079 non-null   float64\n",
      " 4   Close      7079 non-null   float64\n",
      " 5   Adj Close  7079 non-null   float64\n",
      " 6   Volume     7079 non-null   int64  \n",
      "dtypes: float64(5), int64(1), object(1)\n",
      "memory usage: 387.3+ KB\n"
     ]
    }
   ],
   "source": [
    "RELIANCE.info()"
   ]
  },
  {
   "cell_type": "code",
   "execution_count": 6,
   "metadata": {},
   "outputs": [],
   "source": [
    "RELIANCE[\"Date\"] = pd.to_datetime(RELIANCE[\"Date\"])"
   ]
  },
  {
   "cell_type": "code",
   "execution_count": 16,
   "metadata": {},
   "outputs": [],
   "source": [
    "ed_date = '2023-06-01'\n",
    "RELIANCE_Train_X, RELIANCE_Train_Y, RELIANCE_Test_X, RELIANCE_Test_Y = DatasetGenerator.Dataset(RELIANCE, ed_date)"
   ]
  },
  {
   "cell_type": "code",
   "execution_count": 18,
   "metadata": {},
   "outputs": [],
   "source": [
    "def LSTM_model():\n",
    "  model = tf.keras.models.Sequential([\n",
    "                                      tf.keras.layers.LSTM(200, input_shape = (5, 1), activation = tf.nn.leaky_relu, return_sequences = True),\n",
    "                                      tf.keras.layers.LSTM(200, activation = tf.nn.leaky_relu),\n",
    "                                      tf.keras.layers.Dense(200, activation = tf.nn.leaky_relu),\n",
    "                                      tf.keras.layers.Dense(100, activation = tf.nn.leaky_relu),\n",
    "                                      tf.keras.layers.Dense(50, activation = tf.nn.leaky_relu),\n",
    "                                      tf.keras.layers.Dense(5, activation = tf.nn.leaky_relu)\n",
    "                                      ])\n",
    "  return model"
   ]
  },
  {
   "cell_type": "code",
   "execution_count": 19,
   "metadata": {},
   "outputs": [
    {
     "name": "stdout",
     "output_type": "stream",
     "text": [
      "WARNING:tensorflow:Layer lstm will not use cuDNN kernels since it doesn't meet the criteria. It will use a generic GPU kernel as fallback when running on GPU.\n",
      "WARNING:tensorflow:Layer lstm_1 will not use cuDNN kernels since it doesn't meet the criteria. It will use a generic GPU kernel as fallback when running on GPU.\n",
      "Model: \"sequential\"\n",
      "_________________________________________________________________\n",
      " Layer (type)                Output Shape              Param #   \n",
      "=================================================================\n",
      " lstm (LSTM)                 (None, 5, 200)            161600    \n",
      "                                                                 \n",
      " lstm_1 (LSTM)               (None, 200)               320800    \n",
      "                                                                 \n",
      " dense (Dense)               (None, 200)               40200     \n",
      "                                                                 \n",
      " dense_1 (Dense)             (None, 100)               20100     \n",
      "                                                                 \n",
      " dense_2 (Dense)             (None, 50)                5050      \n",
      "                                                                 \n",
      " dense_3 (Dense)             (None, 5)                 255       \n",
      "                                                                 \n",
      "=================================================================\n",
      "Total params: 548,005\n",
      "Trainable params: 548,005\n",
      "Non-trainable params: 0\n",
      "_________________________________________________________________\n"
     ]
    }
   ],
   "source": [
    "lstm = LSTM_model()\n",
    "lstm.summary()"
   ]
  },
  {
   "cell_type": "code",
   "execution_count": null,
   "metadata": {},
   "outputs": [],
   "source": []
  }
 ],
 "metadata": {
  "kernelspec": {
   "display_name": "tf_exec_2.10",
   "language": "python",
   "name": "python3"
  },
  "language_info": {
   "codemirror_mode": {
    "name": "ipython",
    "version": 3
   },
   "file_extension": ".py",
   "mimetype": "text/x-python",
   "name": "python",
   "nbconvert_exporter": "python",
   "pygments_lexer": "ipython3",
   "version": "3.10.13"
  }
 },
 "nbformat": 4,
 "nbformat_minor": 2
}
