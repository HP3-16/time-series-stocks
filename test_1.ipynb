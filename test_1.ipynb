{
 "cells": [
  {
   "cell_type": "code",
   "execution_count": 1,
   "metadata": {},
   "outputs": [],
   "source": [
    "import pandas as pd"
   ]
  },
  {
   "cell_type": "code",
   "execution_count": 2,
   "metadata": {},
   "outputs": [
    {
     "data": {
      "text/html": [
       "<div>\n",
       "<style scoped>\n",
       "    .dataframe tbody tr th:only-of-type {\n",
       "        vertical-align: middle;\n",
       "    }\n",
       "\n",
       "    .dataframe tbody tr th {\n",
       "        vertical-align: top;\n",
       "    }\n",
       "\n",
       "    .dataframe thead th {\n",
       "        text-align: right;\n",
       "    }\n",
       "</style>\n",
       "<table border=\"1\" class=\"dataframe\">\n",
       "  <thead>\n",
       "    <tr style=\"text-align: right;\">\n",
       "      <th></th>\n",
       "      <th>Date</th>\n",
       "      <th>Open</th>\n",
       "      <th>High</th>\n",
       "      <th>Low</th>\n",
       "      <th>Close</th>\n",
       "      <th>Adj Close</th>\n",
       "      <th>Volume</th>\n",
       "    </tr>\n",
       "  </thead>\n",
       "  <tbody>\n",
       "    <tr>\n",
       "      <th>0</th>\n",
       "      <td>1996-01-01</td>\n",
       "      <td>18.691147</td>\n",
       "      <td>18.978922</td>\n",
       "      <td>18.540184</td>\n",
       "      <td>18.823240</td>\n",
       "      <td>12.409934</td>\n",
       "      <td>43733533</td>\n",
       "    </tr>\n",
       "    <tr>\n",
       "      <th>1</th>\n",
       "      <td>1996-01-02</td>\n",
       "      <td>18.894005</td>\n",
       "      <td>18.964767</td>\n",
       "      <td>17.738192</td>\n",
       "      <td>18.224106</td>\n",
       "      <td>12.014933</td>\n",
       "      <td>56167280</td>\n",
       "    </tr>\n",
       "    <tr>\n",
       "      <th>2</th>\n",
       "      <td>1996-01-03</td>\n",
       "      <td>18.327892</td>\n",
       "      <td>18.568489</td>\n",
       "      <td>17.643839</td>\n",
       "      <td>17.738192</td>\n",
       "      <td>11.694572</td>\n",
       "      <td>68296318</td>\n",
       "    </tr>\n",
       "    <tr>\n",
       "      <th>3</th>\n",
       "      <td>1996-01-04</td>\n",
       "      <td>17.502312</td>\n",
       "      <td>17.832542</td>\n",
       "      <td>17.223972</td>\n",
       "      <td>17.676863</td>\n",
       "      <td>11.654143</td>\n",
       "      <td>86073880</td>\n",
       "    </tr>\n",
       "    <tr>\n",
       "      <th>4</th>\n",
       "      <td>1996-01-05</td>\n",
       "      <td>17.738192</td>\n",
       "      <td>17.785366</td>\n",
       "      <td>17.459852</td>\n",
       "      <td>17.577793</td>\n",
       "      <td>11.588823</td>\n",
       "      <td>76613039</td>\n",
       "    </tr>\n",
       "  </tbody>\n",
       "</table>\n",
       "</div>"
      ],
      "text/plain": [
       "         Date       Open       High        Low      Close  Adj Close    Volume\n",
       "0  1996-01-01  18.691147  18.978922  18.540184  18.823240  12.409934  43733533\n",
       "1  1996-01-02  18.894005  18.964767  17.738192  18.224106  12.014933  56167280\n",
       "2  1996-01-03  18.327892  18.568489  17.643839  17.738192  11.694572  68296318\n",
       "3  1996-01-04  17.502312  17.832542  17.223972  17.676863  11.654143  86073880\n",
       "4  1996-01-05  17.738192  17.785366  17.459852  17.577793  11.588823  76613039"
      ]
     },
     "execution_count": 2,
     "metadata": {},
     "output_type": "execute_result"
    }
   ],
   "source": [
    "user_input = input(\"Enter the Stock Symbol\")\n",
    "df = pd.read_csv(f'./equities/{user_input}.csv')\n",
    "df.head()"
   ]
  },
  {
   "cell_type": "code",
   "execution_count": null,
   "metadata": {},
   "outputs": [],
   "source": []
  }
 ],
 "metadata": {
  "kernelspec": {
   "display_name": "tf_exec_2.10",
   "language": "python",
   "name": "python3"
  },
  "language_info": {
   "codemirror_mode": {
    "name": "ipython",
    "version": 3
   },
   "file_extension": ".py",
   "mimetype": "text/x-python",
   "name": "python",
   "nbconvert_exporter": "python",
   "pygments_lexer": "ipython3",
   "version": "3.10.13"
  }
 },
 "nbformat": 4,
 "nbformat_minor": 2
}
